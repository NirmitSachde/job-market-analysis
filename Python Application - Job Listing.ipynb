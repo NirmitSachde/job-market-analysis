{
 "cells": [
  {
   "cell_type": "code",
   "execution_count": 6,
   "id": "000783a8-a14a-4e44-ada7-16ed6deb5dc8",
   "metadata": {},
   "outputs": [],
   "source": [
    "import pandas as pd\n",
    "import mysql.connector\n",
    "import sqlite3\n",
    "from IPython.display import Video\n",
    "from IPython.display import YouTubeVideo\n",
    "from IPython.display import display, HTML\n",
    "\n",
    "# Establish the connection\n",
    "cnx = mysql.connector.connect(\n",
    "    host=\"localhost\",\n",
    "    user=\"root\",\n",
    "    password=\"Nirmit@1234\",\n",
    "    database=\"job_vr\"\n",
    ")\n",
    "\n",
    "# Create a cursor object\n",
    "cursor = cnx.cursor()\n",
    "login_successful = False"
   ]
  },
  {
   "cell_type": "code",
   "execution_count": null,
   "id": "5d857efc-b4e0-423a-953d-26070c3f977b",
   "metadata": {},
   "outputs": [],
   "source": []
  },
  {
   "cell_type": "markdown",
   "id": "21d892cc-d88d-414f-a5e6-6e225843e096",
   "metadata": {},
   "source": [
    "# 1. User Login"
   ]
  },
  {
   "cell_type": "code",
   "execution_count": 2,
   "id": "c0bfab6f-11c5-490a-a2e4-10bae8898802",
   "metadata": {},
   "outputs": [
    {
     "name": "stdin",
     "output_type": "stream",
     "text": [
      "Enter your email:  alexjohnson@email.com\n",
      "Enter your password:  1234\n"
     ]
    },
    {
     "data": {
      "text/html": [
       "<h3>Login Successful!</h3>"
      ],
      "text/plain": [
       "<IPython.core.display.HTML object>"
      ]
     },
     "metadata": {},
     "output_type": "display_data"
    }
   ],
   "source": [
    "def user_login(email, password):\n",
    "    cursor = cnx.cursor()\n",
    "    \n",
    "    # Check if the email and password match in the database\n",
    "    query = \"SELECT * FROM Job_Seekers WHERE email = %s AND password = %s\"\n",
    "    cursor.execute(query, (email, password))\n",
    "    result = cursor.fetchone()\n",
    "    \n",
    "    if result:\n",
    "        # Successful login\n",
    "        display(HTML(\"<h3>Login Successful!</h3>\"))\n",
    "        return True\n",
    "    else:\n",
    "        # Invalid credentials\n",
    "        display(HTML(\"<h3>Invalid Email or Password. Please try again.</h3>\"))\n",
    "        return False\n",
    "\n",
    "# Take user input for email and password\n",
    "email_input = input(\"Enter your email: \")\n",
    "password_input = input(\"Enter your password: \")\n",
    "\n",
    "# Call the login function with the provided credentials\n",
    "login_successful = user_login(email_input, password_input)"
   ]
  },
  {
   "cell_type": "code",
   "execution_count": 3,
   "id": "a64e6a2b-3ab6-4293-acb9-95ab17b46027",
   "metadata": {},
   "outputs": [],
   "source": [
    "# extracting the user's id i.e. job_seeker_id of the logged in user\n",
    "def get_job_seeker_id(cursor, email):\n",
    "        query = \"SELECT job_seeker_id FROM Job_Seekers WHERE email = %s\"\n",
    "        cursor.execute(query, (email,))\n",
    "        result = cursor.fetchone()\n",
    "        if result:\n",
    "            return result[0]\n",
    "        else:\n",
    "            return None\n",
    "    \n",
    "    # Get the job_seeker_id using the provided email\n",
    "job_seeker_id = get_job_seeker_id(cursor, email_input)"
   ]
  },
  {
   "cell_type": "markdown",
   "id": "3a953d84-0e56-4dcf-bdee-516b3f513205",
   "metadata": {},
   "source": [
    "# 2. To Find a job listing in a preferred industry and Location"
   ]
  },
  {
   "cell_type": "code",
   "execution_count": 4,
   "id": "a58c4c75-4802-49fe-b9e3-4033b266b0e6",
   "metadata": {},
   "outputs": [
    {
     "name": "stdin",
     "output_type": "stream",
     "text": [
      "Enter the preferred city you want the job in:  Austin\n",
      "Enter the preferred Industry you want to work in:  Education\n"
     ]
    },
    {
     "name": "stdout",
     "output_type": "stream",
     "text": [
      "\n",
      "Results for job listings in city Austin in Education industry:\n",
      "Job Title:  Content Creator | Job Description:  Create engaging educational content\n",
      "Company Name:  EduTech\n",
      "\n",
      "Salary:  75000.00\n",
      "Skills Required:  Content creation, Education\n"
     ]
    }
   ],
   "source": [
    "if login_successful:\n",
    "    # Define the city and industry\n",
    "    city = input(\"Enter the preferred city you want the job in: \")\n",
    "    industry = input(\"Enter the preferred Industry you want to work in: \")\n",
    "\n",
    "    # Establish a new connection to the database (if needed)\n",
    "    cursor = cnx.cursor()\n",
    "\n",
    "    # Formulate the SQL queries\n",
    "    query = (f\"select job_title, company, job_description, salary, required_skills from Job_Listings \"\n",
    "              f\"where location = '{city}' and industry = '{industry}'\")\n",
    "\n",
    "    # Execute the queries separately\n",
    "    cursor.execute(query)\n",
    "    rows = cursor.fetchall()\n",
    "\n",
    "    # Display results for query 1\n",
    "    count = 0 \n",
    "    for row in rows:\n",
    "        count=count+1\n",
    "\n",
    "    if len(rows) > 0:\n",
    "        print(f\"\\nResults for job listings in city {city} in {industry} industry:\")\n",
    "        for row in rows:\n",
    "            job_title, company_name, job_description, salary, skills_required = row\n",
    "            print(\"Job Title: \", job_title, \"| Job Description: \", job_description)\n",
    "            print(\"Company Name: \", company_name)\n",
    "            print()\n",
    "            print(\"Salary: \", salary)\n",
    "            print(\"Skills Required: \", skills_required)\n",
    "    else:\n",
    "        print(\"\\nNO RESULTS FOUND FOR THE CURRENT SEARCH\")\n",
    "\n",
    "else:\n",
    "    display(HTML(\"<h3>You need to login first :(</h3>\"))"
   ]
  },
  {
   "cell_type": "markdown",
   "id": "63f6a6c7-2e50-44a1-bf3c-d0506a704095",
   "metadata": {},
   "source": [
    "# 3. To find current job seeker's applications"
   ]
  },
  {
   "cell_type": "code",
   "execution_count": 5,
   "id": "a611aa9f-314d-4f95-b832-9552d0a2e4a7",
   "metadata": {},
   "outputs": [
    {
     "name": "stdout",
     "output_type": "stream",
     "text": [
      "Job applications and associated job details for job seeker with ID 15:\n"
     ]
    },
    {
     "data": {
      "text/html": [
       "<h3>Alex Johnson</h3>"
      ],
      "text/plain": [
       "<IPython.core.display.HTML object>"
      ]
     },
     "metadata": {},
     "output_type": "display_data"
    },
    {
     "name": "stdout",
     "output_type": "stream",
     "text": [
      "\n",
      "Application ID: 15  | Application Date: 2023-02-25\n",
      "Job Title: Healthcare Administrator\n",
      "Application Details: Experienced in healthcare administration\n",
      "Company: Healthcare Solutions\n",
      "Job Description: Oversee healthcare operations\n",
      "Industry: Healthcare\n",
      "\n",
      "\n"
     ]
    }
   ],
   "source": [
    "if login_successful: \n",
    "    # Formulate the SQL queries\n",
    "    query = f\"\"\"\n",
    "        select js.name, a.application_id, a.application_details, a.application_date, jl.job_title, jl.company, jl.job_description, jl.industry\n",
    "        from applications a\n",
    "        inner join job_listings jl on a.job_id = jl.job_id\n",
    "        inner join job_seekers js on a.job_seeker_id = js.job_seeker_id\n",
    "        where a.job_seeker_id = {job_seeker_id}\n",
    "    \"\"\"\n",
    "    \n",
    "    # Execute the queries separately\n",
    "    cursor.execute(query)\n",
    "    rows = cursor.fetchall()\n",
    "       \n",
    "    # Display results for query 1\n",
    "    count = 0 \n",
    "    for row in rows:\n",
    "        count=count+1\n",
    "    \n",
    "    if len(rows) > 0:\n",
    "        print(f\"Job applications and associated job details for job seeker with ID {job_seeker_id}:\")\n",
    "        for row in rows:\n",
    "            name, application_id, application_details, application_date, job_title, company, job_description, industry = row\n",
    "            display(HTML(f\"<h3>{name}</h3>\"))\n",
    "            print(f\"\\nApplication ID: {application_id}\" ,f\" | Application Date: {application_date}\")\n",
    "            print(f\"Job Title: {job_title}\")\n",
    "            print(f\"Application Details: {application_details}\")\n",
    "            print(f\"Company: {company}\")\n",
    "            print(f\"Job Description: {job_description}\")\n",
    "            print(f\"Industry: {industry}\")\n",
    "            print(\"\\n\")\n",
    "    else:\n",
    "        print(f\"No job applications found for job seeker with ID {job_seeker_id}\")\n",
    "else:\n",
    "    display(HTML(\"<h3>You need to login first :(</h3>\"))"
   ]
  },
  {
   "cell_type": "markdown",
   "id": "8701ccd4-07f8-46a5-89df-8991b1f10255",
   "metadata": {},
   "source": [
    "# 4. Get the VR videos for different roles in selected industry"
   ]
  },
  {
   "cell_type": "code",
   "execution_count": 6,
   "id": "a0a44159-c08c-420f-9154-4724d9ef3adf",
   "metadata": {},
   "outputs": [
    {
     "name": "stdout",
     "output_type": "stream",
     "text": [
      "Available Industries:\n",
      "Education\n",
      "Finance\n",
      "Healthcare\n",
      "Technology\n"
     ]
    },
    {
     "name": "stdin",
     "output_type": "stream",
     "text": [
      "Enter an industry name:  Technology\n"
     ]
    },
    {
     "name": "stdout",
     "output_type": "stream",
     "text": [
      "\n",
      "Job Listings in Technology with VR video available:\n",
      "VR ID: 5 \n",
      "Job Title: Software Engineer\n"
     ]
    },
    {
     "name": "stdin",
     "output_type": "stream",
     "text": [
      "\n",
      "Enter a VR ID:  5\n"
     ]
    },
    {
     "name": "stdout",
     "output_type": "stream",
     "text": [
      "\n",
      "Playing video for the requested Job Title\n"
     ]
    },
    {
     "data": {
      "image/jpeg": "[encoded data removed]",
      "text/html": [
       "\n",
       "        <iframe\n",
       "            width=\"400\"\n",
       "            height=\"300\"\n",
       "            src=\"https://www.youtube.com/embed/f9sH5SgCYbY\"\n",
       "            frameborder=\"0\"\n",
       "            allowfullscreen\n",
       "            \n",
       "        ></iframe>\n",
       "        "
      ],
      "text/plain": [
       "<IPython.lib.display.YouTubeVideo at 0x156bfd98bd0>"
      ]
     },
     "metadata": {},
     "output_type": "display_data"
    }
   ],
   "source": [
    "if login_successful:    \n",
    "    # Display available industry names from the Industry table\n",
    "    cursor.execute(\"SELECT industry_name FROM Industry\")\n",
    "    industries = cursor.fetchall()\n",
    "    print(\"Available Industries:\")\n",
    "    for industry in industries:\n",
    "        print(industry[0])\n",
    "    \n",
    "    # Take user input for industry name\n",
    "    user_input = input(\"Enter an industry name: \")\n",
    "    \n",
    "    # Fetch job listings with non-null video_link in VR_Experiences for the entered industry\n",
    "    cursor.execute(\"\"\"\n",
    "        SELECT jl.job_title, ve.vr_id \n",
    "        FROM Job_Listings jl \n",
    "        JOIN VR_Experiences ve ON jl.job_id = ve.job_id \n",
    "        WHERE jl.industry = %s AND ve.video_link IS NOT NULL\n",
    "    \"\"\", (user_input,))\n",
    "    job_listings = cursor.fetchall()\n",
    "    \n",
    "    # Display job listings with corresponding VR IDs\n",
    "    if job_listings:\n",
    "        print(f\"\\nJob Listings in {user_input} with VR video available:\")\n",
    "        for job in job_listings:\n",
    "            print(f\"VR ID: {job[1]} \\nJob Title: {job[0]}\")\n",
    "        \n",
    "        # Take user input for VR ID\n",
    "        vr_id_input = int(input(\"\\nEnter a VR ID: \"))\n",
    "        \n",
    "        # Fetch video_link for the selected VR ID\n",
    "        cursor.execute(\"SELECT video_link FROM vr_experiences WHERE vr_id = %s\", (vr_id_input,))\n",
    "        video_link = cursor.fetchone()[0]\n",
    "        \n",
    "        if video_link:\n",
    "            video_path = video_link.split('v=')[1]\n",
    "            print(f\"\\nPlaying video for the requested Job Title\")\n",
    "            display(YouTubeVideo(video_path)) \n",
    "        else:\n",
    "            print(\"Video link not found or video not available.\")\n",
    "    else:\n",
    "        print(\"No job listings found for the entered industry or no VR details available.\")\n",
    "else:\n",
    "    display(HTML(\"<h3>You need to login first :(</h3>\"))"
   ]
  },
  {
   "cell_type": "markdown",
   "id": "7a27768d-5698-4e66-b379-545b67dbf163",
   "metadata": {},
   "source": [
    "# 5. Displaying user Information"
   ]
  },
  {
   "cell_type": "code",
   "execution_count": 7,
   "id": "b09dec08-ea1b-40a1-be7d-a9fbd9dfea6a",
   "metadata": {},
   "outputs": [
    {
     "data": {
      "text/html": [
       "<h3>Alex Johnson</h3>"
      ],
      "text/plain": [
       "<IPython.core.display.HTML object>"
      ]
     },
     "metadata": {},
     "output_type": "display_data"
    },
    {
     "name": "stdout",
     "output_type": "stream",
     "text": [
      "Job Seeker ID: 15  | Email: alexjohnson@email.com  | Mobile: 111-222-3333\n",
      "\n",
      "Job Preferences: Healthcare administration role  | Wage Expectations: 95000.00\n",
      "\n",
      "Skills: Healthcare Management\n",
      "Preferred Location: New York\n",
      "Latest attained degree: Master of Science  | Major: Health Administration\n",
      "\n",
      "Institution: University D  | GPA: 3.80\n",
      "Graduation Date: 2021-08-25\n",
      "\n"
     ]
    }
   ],
   "source": [
    "if login_successful:\n",
    "    if job_seeker_id:\n",
    "        def display_user_info_with_education(cursor, job_seeker_id):\n",
    "            query = \"\"\"\n",
    "            SELECT js.*, edu.degree, edu.institution, edu.graduation_date, edu.major, edu.GPA \n",
    "            FROM Job_Seekers js\n",
    "            INNER JOIN Education edu ON js.education = edu.education_id\n",
    "            WHERE js.job_seeker_id = %s\n",
    "            \"\"\"\n",
    "            cursor.execute(query, (job_seeker_id,))\n",
    "            user_info = cursor.fetchone()\n",
    "            \n",
    "            if user_info:\n",
    "                display(HTML(f\"<h3>{user_info[10]}</h3>\"))\n",
    "                print(f\"Job Seeker ID: {user_info[0]}\", f\" | Email: {user_info[1]}\", f\" | Mobile: {user_info[9]}\")\n",
    "                print()\n",
    "                print(f\"Job Preferences: {user_info[3]}\", f\" | Wage Expectations: {user_info[4]}\")\n",
    "                print()\n",
    "                print(f\"Skills: {user_info[5]}\")\n",
    "                print(f\"Preferred Location: {user_info[7]}\")\n",
    "                print(f\"Latest attained degree: {user_info[11]}\", f\" | Major: {user_info[14]}\")\n",
    "                print()        \n",
    "                print(f\"Institution: {user_info[12]}\", f\" | GPA: {user_info[15]}\")\n",
    "                print(f\"Graduation Date: {user_info[13]}\")\n",
    "                print()\n",
    "        \n",
    "            else:\n",
    "                print(\"User not found!\")\n",
    "        \n",
    "        # Display user information with education details\n",
    "        display_user_info_with_education(cursor, job_seeker_id)\n",
    "    else:\n",
    "        print(\"Job Seeker ID not found for the provided email.\")\n",
    "else:\n",
    "    display(HTML(\"<h3>You need to login first :(</h3>\"))\n"
   ]
  },
  {
   "cell_type": "markdown",
   "id": "b50b8dca-f144-4add-bf0b-fdd2005cbcd7",
   "metadata": {},
   "source": [
    "# 6. Updating user's Personal Information"
   ]
  },
  {
   "cell_type": "code",
   "execution_count": 8,
   "id": "7e1dcee5-8a6e-4106-b129-1706dbec864a",
   "metadata": {},
   "outputs": [
    {
     "name": "stdout",
     "output_type": "stream",
     "text": [
      "Details before updating\n"
     ]
    },
    {
     "data": {
      "text/html": [
       "<h3>Alex Johnson</h3>"
      ],
      "text/plain": [
       "<IPython.core.display.HTML object>"
      ]
     },
     "metadata": {},
     "output_type": "display_data"
    },
    {
     "name": "stdout",
     "output_type": "stream",
     "text": [
      "Job Seeker ID: 15  | Email: alexjohnson@email.com  | Mobile: 111-222-3333\n",
      "\n",
      "Job Preferences: Healthcare administration role  | Wage Expectations: 95000.00\n",
      "\n",
      "Skills: Healthcare Management\n",
      "Preferred Location: New York\n",
      "Latest attained degree: Master of Science  | Major: Health Administration\n",
      "\n",
      "Institution: University D  | GPA: 3.80\n",
      "Graduation Date: 2021-08-25\n",
      "\n",
      "\n",
      "---------------------------------------------------------------------------------------------------------\n",
      "\n"
     ]
    },
    {
     "name": "stdin",
     "output_type": "stream",
     "text": [
      "Enter the column name to update(email, mobile, password):  mobile\n",
      "Enter the new value for mobile:  999-888-7777\n"
     ]
    },
    {
     "name": "stdout",
     "output_type": "stream",
     "text": [
      "\n",
      "---------------------------------------------------------------------------------------------------------\n",
      "\n",
      "Mobile updated successfully!\n",
      "\n",
      "\n",
      "\n",
      "Details after updating\n"
     ]
    },
    {
     "data": {
      "text/html": [
       "<h3>Alex Johnson</h3>"
      ],
      "text/plain": [
       "<IPython.core.display.HTML object>"
      ]
     },
     "metadata": {},
     "output_type": "display_data"
    },
    {
     "name": "stdout",
     "output_type": "stream",
     "text": [
      "Job Seeker ID: 15  | Email: alexjohnson@email.com  | Mobile: 999-888-7777\n",
      "\n",
      "Job Preferences: Healthcare administration role  | Wage Expectations: 95000.00\n",
      "\n",
      "Skills: Healthcare Management\n",
      "Preferred Location: New York\n",
      "Latest attained degree: Master of Science  | Major: Health Administration\n",
      "\n",
      "Institution: University D  | GPA: 3.80\n",
      "Graduation Date: 2021-08-25\n",
      "\n"
     ]
    }
   ],
   "source": [
    "if login_successful:\n",
    "    print(\"Details before updating\")\n",
    "    display_user_info_with_education(cursor, job_seeker_id)\n",
    "    def update_personal_info(cursor, job_seeker_id, column, new_value):\n",
    "        try:\n",
    "            update_query = f\"UPDATE Job_Seekers SET {column} = %s WHERE job_seeker_id = %s\"\n",
    "            cursor.execute(update_query, (new_value, job_seeker_id))\n",
    "            cnx.commit()\n",
    "            print(f\"{column.capitalize()} updated successfully!\")\n",
    "        except mysql.connector.Error as err:\n",
    "            cnx.rollback()\n",
    "            print(f\"Error: {err}\")\n",
    "    \n",
    "    # Take user input for column name and new value\n",
    "    print(\"\\n---------------------------------------------------------------------------------------------------------\\n\")\n",
    "    column = input(\"Enter the column name to update(email, mobile, password): \")\n",
    "    new_value = input(f\"Enter the new value for {column}: \")\n",
    "    print(\"\\n---------------------------------------------------------------------------------------------------------\\n\")\n",
    "    # Call the function to update the specified column\n",
    "    update_personal_info(cursor, job_seeker_id, column, new_value)\n",
    "    print(\"\\n\\n\\nDetails after updating\")\n",
    "    display_user_info_with_education(cursor, job_seeker_id)\n",
    "else:\n",
    "    display(HTML(\"<h3>You need to login first :(</h3>\"))"
   ]
  },
  {
   "cell_type": "code",
   "execution_count": 10,
   "id": "60350efa-47f6-42de-bc5a-0b8e64072356",
   "metadata": {},
   "outputs": [],
   "source": [
    "# Close the cursor and connection\n",
    "cursor.close()\n",
    "cnx.close()"
   ]
  },
  {
   "cell_type": "code",
   "execution_count": 9,
   "id": "5bd3375f-95a1-4453-81d0-0c49b07d214e",
   "metadata": {},
   "outputs": [
    {
     "data": {
      "image/png": "[encoded data removed]",
      "text/plain": [
       "<Figure size 1200x800 with 1 Axes>"
      ]
     },
     "metadata": {},
     "output_type": "display_data"
    }
   ],
   "source": [
    "# Construct the SQL query\n",
    "sql_query = \"SELECT vr_id, VR_simulation_details, growth_potential, job_id FROM vr_experiences\"\n",
    "\n",
    "# Use pandas to read the SQL query result into a DataFrame\n",
    "df = pd.read_sql(sql_query, con=cnx, columns=columns)\n",
    "\n",
    "\n",
    "# Set the style for seaborn\n",
    "sns.set(style=\"whitegrid\")\n",
    "\n",
    "# Create a count plot\n",
    "plt.figure(figsize=(12, 8))\n",
    "sns.countplot(x='VR_simulation_details', hue='growth_potential', data=df, palette='viridis')\n",
    "plt.title('VR Simulation Details Count by Growth Potential')\n",
    "plt.xlabel('VR Simulation Details')\n",
    "plt.ylabel('Count')\n",
    "plt.show()\n",
    "df = pd.DataFrame(data)\n",
    "\n",
    "# Set the style for seaborn\n",
    "sns.set(style=\"whitegrid\")\n",
    "\n",
    "# Create a count plot\n",
    "plt.figure(figsize=(12, 8))\n",
    "sns.countplot(x='VR_simulation_details', hue='growth_potential', data=df, palette='viridis')\n",
    "plt.title('VR Simulation Details Count by Growth Potential')\n",
    "plt.xlabel('VR Simulation Details')\n",
    "plt.ylabel('Count')\n",
    "plt.show()\n"
   ]
  },
  {
   "cell_type": "markdown",
   "id": "e854c2c6-7f2e-49ae-a2eb-e63467430602",
   "metadata": {},
   "source": [
    "Education Dominates VR Simulations:\n",
    "\n",
    "The majority of VR simulations are related to education, indicating a significant focus on incorporating virtual reality in educational settings.\n",
    "High Growth Potential in Multiple Sectors:\n",
    "\n",
    "VR simulations in healthcare, finance, technology, and education show a high growth potential, suggesting promising opportunities for development and investment in these sectors.\n",
    "Healthcare and Finance Varied Growth:\n",
    "\n",
    "While healthcare has a mix of high and low growth potential simulations, finance tends to have more simulations with high growth potential. This may imply that VR is perceived as more impactful or necessary in certain finance applications.\n",
    "Medium Growth Potential in Education and Technology:\n",
    "\n",
    "Education and technology sectors have a mix of medium growth potential VR simulations, indicating a moderate level of interest and development in these areas.\n",
    "Law and Technology Have Lower Interest:\n",
    "\n",
    "Simulations related to law and technology generally show lower growth potential, suggesting that the current focus or demand for VR in these fields might be comparatively lower.\n",
    "Diverse Growth Potentials in Education:\n",
    "\n",
    "Within the education sector, there is a diverse range of growth potentials, with simulations falling into the high, medium, and low categories. Further exploration is needed to understand the specific factors influencing growth potential in education.\n",
    "Opportunity for Innovation in Low-Growth Areas:\n",
    "\n",
    "Sectors like law and technology, with simulations showing low growth potential, might present opportunities for innovation and exploration to unlock new applications or improve existing VR solutions.\n",
    "Overall Trends and Patterns:\n",
    "\n",
    "The visualization highlights trends and patterns in the distribution of VR simulations, providing insights into where the industry is currently thriving and where there may be room for expansion and improvement."
   ]
  }
 ],
 "metadata": {
  "kernelspec": {
   "display_name": "Python 3 (ipykernel)",
   "language": "python",
   "name": "python3"
  },
  "language_info": {
   "codemirror_mode": {
    "name": "ipython",
    "version": 3
   },
   "file_extension": ".py",
   "mimetype": "text/x-python",
   "name": "python",
   "nbconvert_exporter": "python",
   "pygments_lexer": "ipython3",
   "version": "3.11.4"
  }
 },
 "nbformat": 4,
 "nbformat_minor": 5
}
